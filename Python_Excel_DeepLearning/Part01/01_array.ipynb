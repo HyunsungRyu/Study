{
 "cells": [
  {
   "cell_type": "code",
   "execution_count": 2,
   "metadata": {},
   "outputs": [],
   "source": [
    "# numpy를 가져와 np라는 별칭으로 호출\n",
    "import numpy as np\n",
    "import xlwings as xw"
   ]
  },
  {
   "cell_type": "code",
   "execution_count": 3,
   "metadata": {},
   "outputs": [],
   "source": [
    "wb = xw.Book('1_1.xlsx')\n",
    "ws = wb.sheets[0]"
   ]
  },
  {
   "cell_type": "code",
   "execution_count": 4,
   "metadata": {},
   "outputs": [
    {
     "name": "stdout",
     "output_type": "stream",
     "text": [
      "스칼라 :  5\n",
      "벡터(1차원 배열) :  [1 2 3]\n",
      "행열(2차원 배열) : \n",
      "[[1 2 3]\n",
      " [9 8 7]]\n",
      "넘파이 배열의 타입 :  <class 'numpy.ndarray'>\n"
     ]
    }
   ],
   "source": [
    "a = np.array(5)\n",
    "b = np.array([1,2,3])\n",
    "c = np.array([[1,2,3],[9,8,7]])\n",
    "\n",
    "print('스칼라 : ',a)\n",
    "print('벡터(1차원 배열) : ',b)\n",
    "\n",
    "# sep='\\n'은 줄바꾸믕로 파이썬 함수 파라미터\n",
    "print('행열(2차원 배열) : ', c,sep='\\n')\n",
    "print('넘파이 배열의 타입 : ', type(a))\n",
    "\n",
    "ws.range((1,1)).value = '스칼라 : '\n",
    "ws.range((1,2)).value = a\n",
    "ws.range((3,1)).value = '1차원 배열 : '\n",
    "ws.range((3,2)).value = 'b'\n",
    "ws.range((5,1)).value = '2차원 배열 : '\n",
    "ws.range((5,2)).value = c\n"
   ]
  },
  {
   "cell_type": "code",
   "execution_count": null,
   "metadata": {},
   "outputs": [],
   "source": []
  }
 ],
 "metadata": {
  "kernelspec": {
   "display_name": "Python 3",
   "language": "python",
   "name": "python3"
  },
  "language_info": {
   "codemirror_mode": {
    "name": "ipython",
    "version": 3
   },
   "file_extension": ".py",
   "mimetype": "text/x-python",
   "name": "python",
   "nbconvert_exporter": "python",
   "pygments_lexer": "ipython3",
   "version": "3.11.2"
  }
 },
 "nbformat": 4,
 "nbformat_minor": 2
}
